{
  "nbformat": 4,
  "nbformat_minor": 0,
  "metadata": {
    "colab": {
      "provenance": [],
      "include_colab_link": true
    },
    "kernelspec": {
      "name": "python3",
      "display_name": "Python 3"
    },
    "language_info": {
      "name": "python"
    }
  },
  "cells": [
    {
      "cell_type": "markdown",
      "metadata": {
        "id": "view-in-github",
        "colab_type": "text"
      },
      "source": [
        "<a href=\"https://colab.research.google.com/github/ppimpxm/Halloween-candies/blob/main/Copy_of_Halloween's_candy.ipynb\" target=\"_parent\"><img src=\"https://colab.research.google.com/assets/colab-badge.svg\" alt=\"Open In Colab\"/></a>"
      ]
    },
    {
      "cell_type": "code",
      "execution_count": null,
      "metadata": {
        "id": "JBA5IltBbRof",
        "colab": {
          "base_uri": "https://localhost:8080/"
        },
        "outputId": "78e722b3-8752-412b-e4ae-09e4cbbc4fac"
      },
      "outputs": [
        {
          "output_type": "stream",
          "name": "stdout",
          "text": [
            "Dataset URL: https://www.kaggle.com/datasets/fivethirtyeight/the-ultimate-halloween-candy-power-ranking\n",
            "License(s): other\n",
            "the-ultimate-halloween-candy-power-ranking.zip: Skipping, found more recently modified local copy (use --force to force download)\n",
            "  competitorname  chocolate  fruity  caramel  peanutyalmondy  nougat  \\\n",
            "0      100 Grand          1       0        1               0       0   \n",
            "1   3 Musketeers          1       0        0               0       1   \n",
            "2       One dime          0       0        0               0       0   \n",
            "3    One quarter          0       0        0               0       0   \n",
            "4      Air Heads          0       1        0               0       0   \n",
            "\n",
            "   crispedricewafer  hard  bar  pluribus  sugarpercent  pricepercent  \\\n",
            "0                 1     0    1         0         0.732         0.860   \n",
            "1                 0     0    1         0         0.604         0.511   \n",
            "2                 0     0    0         0         0.011         0.116   \n",
            "3                 0     0    0         0         0.011         0.511   \n",
            "4                 0     0    0         0         0.906         0.511   \n",
            "\n",
            "   winpercent  \n",
            "0   66.971725  \n",
            "1   67.602936  \n",
            "2   32.261086  \n",
            "3   46.116505  \n",
            "4   52.341465  \n"
          ]
        }
      ],
      "source": [
        "import os\n",
        "from zipfile import ZipFile\n",
        "import pandas as pd\n",
        "\n",
        "# Set the Kaggle API key environment variables\n",
        "os.environ['siriyapornpim'] = 'username'\n",
        "os.environ['cad31aafb88c429e6f08c2b005af0b83'] = 'API key'\n",
        "\n",
        "# Download the World Happiness Report dataset\n",
        "!kaggle datasets download -d fivethirtyeight/the-ultimate-halloween-candy-power-ranking\n",
        "\n",
        "\n",
        "# Load and display the dataset (adjust the file name based on the year you want)\n",
        "mydata = pd.read_csv('candy-data.csv')\n",
        "print(mydata.head())\n"
      ]
    },
    {
      "cell_type": "code",
      "source": [
        "mydata"
      ],
      "metadata": {
        "colab": {
          "base_uri": "https://localhost:8080/",
          "height": 473
        },
        "id": "qAbB0cU4cr79",
        "outputId": "fc153ec1-c45e-4acb-e032-6990269b6971"
      },
      "execution_count": null,
      "outputs": [
        {
          "output_type": "execute_result",
          "data": {
            "text/plain": [
              "                competitorname  chocolate  fruity  caramel  peanutyalmondy  \\\n",
              "0                    100 Grand          1       0        1               0   \n",
              "1                 3 Musketeers          1       0        0               0   \n",
              "2                     One dime          0       0        0               0   \n",
              "3                  One quarter          0       0        0               0   \n",
              "4                    Air Heads          0       1        0               0   \n",
              "..                         ...        ...     ...      ...             ...   \n",
              "80                   Twizzlers          0       1        0               0   \n",
              "81                    Warheads          0       1        0               0   \n",
              "82        WelchÕs Fruit Snacks          0       1        0               0   \n",
              "83  WertherÕs Original Caramel          0       0        1               0   \n",
              "84                    Whoppers          1       0        0               0   \n",
              "\n",
              "    nougat  crispedricewafer  hard  bar  pluribus  sugarpercent  pricepercent  \\\n",
              "0        0                 1     0    1         0         0.732         0.860   \n",
              "1        1                 0     0    1         0         0.604         0.511   \n",
              "2        0                 0     0    0         0         0.011         0.116   \n",
              "3        0                 0     0    0         0         0.011         0.511   \n",
              "4        0                 0     0    0         0         0.906         0.511   \n",
              "..     ...               ...   ...  ...       ...           ...           ...   \n",
              "80       0                 0     0    0         0         0.220         0.116   \n",
              "81       0                 0     1    0         0         0.093         0.116   \n",
              "82       0                 0     0    0         1         0.313         0.313   \n",
              "83       0                 0     1    0         0         0.186         0.267   \n",
              "84       0                 1     0    0         1         0.872         0.848   \n",
              "\n",
              "    winpercent  \n",
              "0    66.971725  \n",
              "1    67.602936  \n",
              "2    32.261086  \n",
              "3    46.116505  \n",
              "4    52.341465  \n",
              "..         ...  \n",
              "80   45.466282  \n",
              "81   39.011898  \n",
              "82   44.375519  \n",
              "83   41.904308  \n",
              "84   49.524113  \n",
              "\n",
              "[85 rows x 13 columns]"
            ],
            "text/html": [
              "\n",
              "  <div id=\"df-221933d8-9bfd-4353-89d2-e5f9425217a9\" class=\"colab-df-container\">\n",
              "    <div>\n",
              "<style scoped>\n",
              "    .dataframe tbody tr th:only-of-type {\n",
              "        vertical-align: middle;\n",
              "    }\n",
              "\n",
              "    .dataframe tbody tr th {\n",
              "        vertical-align: top;\n",
              "    }\n",
              "\n",
              "    .dataframe thead th {\n",
              "        text-align: right;\n",
              "    }\n",
              "</style>\n",
              "<table border=\"1\" class=\"dataframe\">\n",
              "  <thead>\n",
              "    <tr style=\"text-align: right;\">\n",
              "      <th></th>\n",
              "      <th>competitorname</th>\n",
              "      <th>chocolate</th>\n",
              "      <th>fruity</th>\n",
              "      <th>caramel</th>\n",
              "      <th>peanutyalmondy</th>\n",
              "      <th>nougat</th>\n",
              "      <th>crispedricewafer</th>\n",
              "      <th>hard</th>\n",
              "      <th>bar</th>\n",
              "      <th>pluribus</th>\n",
              "      <th>sugarpercent</th>\n",
              "      <th>pricepercent</th>\n",
              "      <th>winpercent</th>\n",
              "    </tr>\n",
              "  </thead>\n",
              "  <tbody>\n",
              "    <tr>\n",
              "      <th>0</th>\n",
              "      <td>100 Grand</td>\n",
              "      <td>1</td>\n",
              "      <td>0</td>\n",
              "      <td>1</td>\n",
              "      <td>0</td>\n",
              "      <td>0</td>\n",
              "      <td>1</td>\n",
              "      <td>0</td>\n",
              "      <td>1</td>\n",
              "      <td>0</td>\n",
              "      <td>0.732</td>\n",
              "      <td>0.860</td>\n",
              "      <td>66.971725</td>\n",
              "    </tr>\n",
              "    <tr>\n",
              "      <th>1</th>\n",
              "      <td>3 Musketeers</td>\n",
              "      <td>1</td>\n",
              "      <td>0</td>\n",
              "      <td>0</td>\n",
              "      <td>0</td>\n",
              "      <td>1</td>\n",
              "      <td>0</td>\n",
              "      <td>0</td>\n",
              "      <td>1</td>\n",
              "      <td>0</td>\n",
              "      <td>0.604</td>\n",
              "      <td>0.511</td>\n",
              "      <td>67.602936</td>\n",
              "    </tr>\n",
              "    <tr>\n",
              "      <th>2</th>\n",
              "      <td>One dime</td>\n",
              "      <td>0</td>\n",
              "      <td>0</td>\n",
              "      <td>0</td>\n",
              "      <td>0</td>\n",
              "      <td>0</td>\n",
              "      <td>0</td>\n",
              "      <td>0</td>\n",
              "      <td>0</td>\n",
              "      <td>0</td>\n",
              "      <td>0.011</td>\n",
              "      <td>0.116</td>\n",
              "      <td>32.261086</td>\n",
              "    </tr>\n",
              "    <tr>\n",
              "      <th>3</th>\n",
              "      <td>One quarter</td>\n",
              "      <td>0</td>\n",
              "      <td>0</td>\n",
              "      <td>0</td>\n",
              "      <td>0</td>\n",
              "      <td>0</td>\n",
              "      <td>0</td>\n",
              "      <td>0</td>\n",
              "      <td>0</td>\n",
              "      <td>0</td>\n",
              "      <td>0.011</td>\n",
              "      <td>0.511</td>\n",
              "      <td>46.116505</td>\n",
              "    </tr>\n",
              "    <tr>\n",
              "      <th>4</th>\n",
              "      <td>Air Heads</td>\n",
              "      <td>0</td>\n",
              "      <td>1</td>\n",
              "      <td>0</td>\n",
              "      <td>0</td>\n",
              "      <td>0</td>\n",
              "      <td>0</td>\n",
              "      <td>0</td>\n",
              "      <td>0</td>\n",
              "      <td>0</td>\n",
              "      <td>0.906</td>\n",
              "      <td>0.511</td>\n",
              "      <td>52.341465</td>\n",
              "    </tr>\n",
              "    <tr>\n",
              "      <th>...</th>\n",
              "      <td>...</td>\n",
              "      <td>...</td>\n",
              "      <td>...</td>\n",
              "      <td>...</td>\n",
              "      <td>...</td>\n",
              "      <td>...</td>\n",
              "      <td>...</td>\n",
              "      <td>...</td>\n",
              "      <td>...</td>\n",
              "      <td>...</td>\n",
              "      <td>...</td>\n",
              "      <td>...</td>\n",
              "      <td>...</td>\n",
              "    </tr>\n",
              "    <tr>\n",
              "      <th>80</th>\n",
              "      <td>Twizzlers</td>\n",
              "      <td>0</td>\n",
              "      <td>1</td>\n",
              "      <td>0</td>\n",
              "      <td>0</td>\n",
              "      <td>0</td>\n",
              "      <td>0</td>\n",
              "      <td>0</td>\n",
              "      <td>0</td>\n",
              "      <td>0</td>\n",
              "      <td>0.220</td>\n",
              "      <td>0.116</td>\n",
              "      <td>45.466282</td>\n",
              "    </tr>\n",
              "    <tr>\n",
              "      <th>81</th>\n",
              "      <td>Warheads</td>\n",
              "      <td>0</td>\n",
              "      <td>1</td>\n",
              "      <td>0</td>\n",
              "      <td>0</td>\n",
              "      <td>0</td>\n",
              "      <td>0</td>\n",
              "      <td>1</td>\n",
              "      <td>0</td>\n",
              "      <td>0</td>\n",
              "      <td>0.093</td>\n",
              "      <td>0.116</td>\n",
              "      <td>39.011898</td>\n",
              "    </tr>\n",
              "    <tr>\n",
              "      <th>82</th>\n",
              "      <td>WelchÕs Fruit Snacks</td>\n",
              "      <td>0</td>\n",
              "      <td>1</td>\n",
              "      <td>0</td>\n",
              "      <td>0</td>\n",
              "      <td>0</td>\n",
              "      <td>0</td>\n",
              "      <td>0</td>\n",
              "      <td>0</td>\n",
              "      <td>1</td>\n",
              "      <td>0.313</td>\n",
              "      <td>0.313</td>\n",
              "      <td>44.375519</td>\n",
              "    </tr>\n",
              "    <tr>\n",
              "      <th>83</th>\n",
              "      <td>WertherÕs Original Caramel</td>\n",
              "      <td>0</td>\n",
              "      <td>0</td>\n",
              "      <td>1</td>\n",
              "      <td>0</td>\n",
              "      <td>0</td>\n",
              "      <td>0</td>\n",
              "      <td>1</td>\n",
              "      <td>0</td>\n",
              "      <td>0</td>\n",
              "      <td>0.186</td>\n",
              "      <td>0.267</td>\n",
              "      <td>41.904308</td>\n",
              "    </tr>\n",
              "    <tr>\n",
              "      <th>84</th>\n",
              "      <td>Whoppers</td>\n",
              "      <td>1</td>\n",
              "      <td>0</td>\n",
              "      <td>0</td>\n",
              "      <td>0</td>\n",
              "      <td>0</td>\n",
              "      <td>1</td>\n",
              "      <td>0</td>\n",
              "      <td>0</td>\n",
              "      <td>1</td>\n",
              "      <td>0.872</td>\n",
              "      <td>0.848</td>\n",
              "      <td>49.524113</td>\n",
              "    </tr>\n",
              "  </tbody>\n",
              "</table>\n",
              "<p>85 rows × 13 columns</p>\n",
              "</div>\n",
              "    <div class=\"colab-df-buttons\">\n",
              "\n",
              "  <div class=\"colab-df-container\">\n",
              "    <button class=\"colab-df-convert\" onclick=\"convertToInteractive('df-221933d8-9bfd-4353-89d2-e5f9425217a9')\"\n",
              "            title=\"Convert this dataframe to an interactive table.\"\n",
              "            style=\"display:none;\">\n",
              "\n",
              "  <svg xmlns=\"http://www.w3.org/2000/svg\" height=\"24px\" viewBox=\"0 -960 960 960\">\n",
              "    <path d=\"M120-120v-720h720v720H120Zm60-500h600v-160H180v160Zm220 220h160v-160H400v160Zm0 220h160v-160H400v160ZM180-400h160v-160H180v160Zm440 0h160v-160H620v160ZM180-180h160v-160H180v160Zm440 0h160v-160H620v160Z\"/>\n",
              "  </svg>\n",
              "    </button>\n",
              "\n",
              "  <style>\n",
              "    .colab-df-container {\n",
              "      display:flex;\n",
              "      gap: 12px;\n",
              "    }\n",
              "\n",
              "    .colab-df-convert {\n",
              "      background-color: #E8F0FE;\n",
              "      border: none;\n",
              "      border-radius: 50%;\n",
              "      cursor: pointer;\n",
              "      display: none;\n",
              "      fill: #1967D2;\n",
              "      height: 32px;\n",
              "      padding: 0 0 0 0;\n",
              "      width: 32px;\n",
              "    }\n",
              "\n",
              "    .colab-df-convert:hover {\n",
              "      background-color: #E2EBFA;\n",
              "      box-shadow: 0px 1px 2px rgba(60, 64, 67, 0.3), 0px 1px 3px 1px rgba(60, 64, 67, 0.15);\n",
              "      fill: #174EA6;\n",
              "    }\n",
              "\n",
              "    .colab-df-buttons div {\n",
              "      margin-bottom: 4px;\n",
              "    }\n",
              "\n",
              "    [theme=dark] .colab-df-convert {\n",
              "      background-color: #3B4455;\n",
              "      fill: #D2E3FC;\n",
              "    }\n",
              "\n",
              "    [theme=dark] .colab-df-convert:hover {\n",
              "      background-color: #434B5C;\n",
              "      box-shadow: 0px 1px 3px 1px rgba(0, 0, 0, 0.15);\n",
              "      filter: drop-shadow(0px 1px 2px rgba(0, 0, 0, 0.3));\n",
              "      fill: #FFFFFF;\n",
              "    }\n",
              "  </style>\n",
              "\n",
              "    <script>\n",
              "      const buttonEl =\n",
              "        document.querySelector('#df-221933d8-9bfd-4353-89d2-e5f9425217a9 button.colab-df-convert');\n",
              "      buttonEl.style.display =\n",
              "        google.colab.kernel.accessAllowed ? 'block' : 'none';\n",
              "\n",
              "      async function convertToInteractive(key) {\n",
              "        const element = document.querySelector('#df-221933d8-9bfd-4353-89d2-e5f9425217a9');\n",
              "        const dataTable =\n",
              "          await google.colab.kernel.invokeFunction('convertToInteractive',\n",
              "                                                    [key], {});\n",
              "        if (!dataTable) return;\n",
              "\n",
              "        const docLinkHtml = 'Like what you see? Visit the ' +\n",
              "          '<a target=\"_blank\" href=https://colab.research.google.com/notebooks/data_table.ipynb>data table notebook</a>'\n",
              "          + ' to learn more about interactive tables.';\n",
              "        element.innerHTML = '';\n",
              "        dataTable['output_type'] = 'display_data';\n",
              "        await google.colab.output.renderOutput(dataTable, element);\n",
              "        const docLink = document.createElement('div');\n",
              "        docLink.innerHTML = docLinkHtml;\n",
              "        element.appendChild(docLink);\n",
              "      }\n",
              "    </script>\n",
              "  </div>\n",
              "\n",
              "\n",
              "<div id=\"df-084508f6-b193-410e-b2fa-6c005b23ff72\">\n",
              "  <button class=\"colab-df-quickchart\" onclick=\"quickchart('df-084508f6-b193-410e-b2fa-6c005b23ff72')\"\n",
              "            title=\"Suggest charts\"\n",
              "            style=\"display:none;\">\n",
              "\n",
              "<svg xmlns=\"http://www.w3.org/2000/svg\" height=\"24px\"viewBox=\"0 0 24 24\"\n",
              "     width=\"24px\">\n",
              "    <g>\n",
              "        <path d=\"M19 3H5c-1.1 0-2 .9-2 2v14c0 1.1.9 2 2 2h14c1.1 0 2-.9 2-2V5c0-1.1-.9-2-2-2zM9 17H7v-7h2v7zm4 0h-2V7h2v10zm4 0h-2v-4h2v4z\"/>\n",
              "    </g>\n",
              "</svg>\n",
              "  </button>\n",
              "\n",
              "<style>\n",
              "  .colab-df-quickchart {\n",
              "      --bg-color: #E8F0FE;\n",
              "      --fill-color: #1967D2;\n",
              "      --hover-bg-color: #E2EBFA;\n",
              "      --hover-fill-color: #174EA6;\n",
              "      --disabled-fill-color: #AAA;\n",
              "      --disabled-bg-color: #DDD;\n",
              "  }\n",
              "\n",
              "  [theme=dark] .colab-df-quickchart {\n",
              "      --bg-color: #3B4455;\n",
              "      --fill-color: #D2E3FC;\n",
              "      --hover-bg-color: #434B5C;\n",
              "      --hover-fill-color: #FFFFFF;\n",
              "      --disabled-bg-color: #3B4455;\n",
              "      --disabled-fill-color: #666;\n",
              "  }\n",
              "\n",
              "  .colab-df-quickchart {\n",
              "    background-color: var(--bg-color);\n",
              "    border: none;\n",
              "    border-radius: 50%;\n",
              "    cursor: pointer;\n",
              "    display: none;\n",
              "    fill: var(--fill-color);\n",
              "    height: 32px;\n",
              "    padding: 0;\n",
              "    width: 32px;\n",
              "  }\n",
              "\n",
              "  .colab-df-quickchart:hover {\n",
              "    background-color: var(--hover-bg-color);\n",
              "    box-shadow: 0 1px 2px rgba(60, 64, 67, 0.3), 0 1px 3px 1px rgba(60, 64, 67, 0.15);\n",
              "    fill: var(--button-hover-fill-color);\n",
              "  }\n",
              "\n",
              "  .colab-df-quickchart-complete:disabled,\n",
              "  .colab-df-quickchart-complete:disabled:hover {\n",
              "    background-color: var(--disabled-bg-color);\n",
              "    fill: var(--disabled-fill-color);\n",
              "    box-shadow: none;\n",
              "  }\n",
              "\n",
              "  .colab-df-spinner {\n",
              "    border: 2px solid var(--fill-color);\n",
              "    border-color: transparent;\n",
              "    border-bottom-color: var(--fill-color);\n",
              "    animation:\n",
              "      spin 1s steps(1) infinite;\n",
              "  }\n",
              "\n",
              "  @keyframes spin {\n",
              "    0% {\n",
              "      border-color: transparent;\n",
              "      border-bottom-color: var(--fill-color);\n",
              "      border-left-color: var(--fill-color);\n",
              "    }\n",
              "    20% {\n",
              "      border-color: transparent;\n",
              "      border-left-color: var(--fill-color);\n",
              "      border-top-color: var(--fill-color);\n",
              "    }\n",
              "    30% {\n",
              "      border-color: transparent;\n",
              "      border-left-color: var(--fill-color);\n",
              "      border-top-color: var(--fill-color);\n",
              "      border-right-color: var(--fill-color);\n",
              "    }\n",
              "    40% {\n",
              "      border-color: transparent;\n",
              "      border-right-color: var(--fill-color);\n",
              "      border-top-color: var(--fill-color);\n",
              "    }\n",
              "    60% {\n",
              "      border-color: transparent;\n",
              "      border-right-color: var(--fill-color);\n",
              "    }\n",
              "    80% {\n",
              "      border-color: transparent;\n",
              "      border-right-color: var(--fill-color);\n",
              "      border-bottom-color: var(--fill-color);\n",
              "    }\n",
              "    90% {\n",
              "      border-color: transparent;\n",
              "      border-bottom-color: var(--fill-color);\n",
              "    }\n",
              "  }\n",
              "</style>\n",
              "\n",
              "  <script>\n",
              "    async function quickchart(key) {\n",
              "      const quickchartButtonEl =\n",
              "        document.querySelector('#' + key + ' button');\n",
              "      quickchartButtonEl.disabled = true;  // To prevent multiple clicks.\n",
              "      quickchartButtonEl.classList.add('colab-df-spinner');\n",
              "      try {\n",
              "        const charts = await google.colab.kernel.invokeFunction(\n",
              "            'suggestCharts', [key], {});\n",
              "      } catch (error) {\n",
              "        console.error('Error during call to suggestCharts:', error);\n",
              "      }\n",
              "      quickchartButtonEl.classList.remove('colab-df-spinner');\n",
              "      quickchartButtonEl.classList.add('colab-df-quickchart-complete');\n",
              "    }\n",
              "    (() => {\n",
              "      let quickchartButtonEl =\n",
              "        document.querySelector('#df-084508f6-b193-410e-b2fa-6c005b23ff72 button');\n",
              "      quickchartButtonEl.style.display =\n",
              "        google.colab.kernel.accessAllowed ? 'block' : 'none';\n",
              "    })();\n",
              "  </script>\n",
              "</div>\n",
              "\n",
              "  <div id=\"id_12ef5aba-cebf-4013-9f19-4e7209f6805f\">\n",
              "    <style>\n",
              "      .colab-df-generate {\n",
              "        background-color: #E8F0FE;\n",
              "        border: none;\n",
              "        border-radius: 50%;\n",
              "        cursor: pointer;\n",
              "        display: none;\n",
              "        fill: #1967D2;\n",
              "        height: 32px;\n",
              "        padding: 0 0 0 0;\n",
              "        width: 32px;\n",
              "      }\n",
              "\n",
              "      .colab-df-generate:hover {\n",
              "        background-color: #E2EBFA;\n",
              "        box-shadow: 0px 1px 2px rgba(60, 64, 67, 0.3), 0px 1px 3px 1px rgba(60, 64, 67, 0.15);\n",
              "        fill: #174EA6;\n",
              "      }\n",
              "\n",
              "      [theme=dark] .colab-df-generate {\n",
              "        background-color: #3B4455;\n",
              "        fill: #D2E3FC;\n",
              "      }\n",
              "\n",
              "      [theme=dark] .colab-df-generate:hover {\n",
              "        background-color: #434B5C;\n",
              "        box-shadow: 0px 1px 3px 1px rgba(0, 0, 0, 0.15);\n",
              "        filter: drop-shadow(0px 1px 2px rgba(0, 0, 0, 0.3));\n",
              "        fill: #FFFFFF;\n",
              "      }\n",
              "    </style>\n",
              "    <button class=\"colab-df-generate\" onclick=\"generateWithVariable('mydata')\"\n",
              "            title=\"Generate code using this dataframe.\"\n",
              "            style=\"display:none;\">\n",
              "\n",
              "  <svg xmlns=\"http://www.w3.org/2000/svg\" height=\"24px\"viewBox=\"0 0 24 24\"\n",
              "       width=\"24px\">\n",
              "    <path d=\"M7,19H8.4L18.45,9,17,7.55,7,17.6ZM5,21V16.75L18.45,3.32a2,2,0,0,1,2.83,0l1.4,1.43a1.91,1.91,0,0,1,.58,1.4,1.91,1.91,0,0,1-.58,1.4L9.25,21ZM18.45,9,17,7.55Zm-12,3A5.31,5.31,0,0,0,4.9,8.1,5.31,5.31,0,0,0,1,6.5,5.31,5.31,0,0,0,4.9,4.9,5.31,5.31,0,0,0,6.5,1,5.31,5.31,0,0,0,8.1,4.9,5.31,5.31,0,0,0,12,6.5,5.46,5.46,0,0,0,6.5,12Z\"/>\n",
              "  </svg>\n",
              "    </button>\n",
              "    <script>\n",
              "      (() => {\n",
              "      const buttonEl =\n",
              "        document.querySelector('#id_12ef5aba-cebf-4013-9f19-4e7209f6805f button.colab-df-generate');\n",
              "      buttonEl.style.display =\n",
              "        google.colab.kernel.accessAllowed ? 'block' : 'none';\n",
              "\n",
              "      buttonEl.onclick = () => {\n",
              "        google.colab.notebook.generateWithVariable('mydata');\n",
              "      }\n",
              "      })();\n",
              "    </script>\n",
              "  </div>\n",
              "\n",
              "    </div>\n",
              "  </div>\n"
            ],
            "application/vnd.google.colaboratory.intrinsic+json": {
              "type": "dataframe",
              "variable_name": "mydata",
              "summary": "{\n  \"name\": \"mydata\",\n  \"rows\": 85,\n  \"fields\": [\n    {\n      \"column\": \"competitorname\",\n      \"properties\": {\n        \"dtype\": \"string\",\n        \"num_unique_values\": 85,\n        \"samples\": [\n          \"Trolli Sour Bites\",\n          \"100 Grand\",\n          \"Starburst\"\n        ],\n        \"semantic_type\": \"\",\n        \"description\": \"\"\n      }\n    },\n    {\n      \"column\": \"chocolate\",\n      \"properties\": {\n        \"dtype\": \"number\",\n        \"std\": 0,\n        \"min\": 0,\n        \"max\": 1,\n        \"num_unique_values\": 2,\n        \"samples\": [\n          0,\n          1\n        ],\n        \"semantic_type\": \"\",\n        \"description\": \"\"\n      }\n    },\n    {\n      \"column\": \"fruity\",\n      \"properties\": {\n        \"dtype\": \"number\",\n        \"std\": 0,\n        \"min\": 0,\n        \"max\": 1,\n        \"num_unique_values\": 2,\n        \"samples\": [\n          1,\n          0\n        ],\n        \"semantic_type\": \"\",\n        \"description\": \"\"\n      }\n    },\n    {\n      \"column\": \"caramel\",\n      \"properties\": {\n        \"dtype\": \"number\",\n        \"std\": 0,\n        \"min\": 0,\n        \"max\": 1,\n        \"num_unique_values\": 2,\n        \"samples\": [\n          0,\n          1\n        ],\n        \"semantic_type\": \"\",\n        \"description\": \"\"\n      }\n    },\n    {\n      \"column\": \"peanutyalmondy\",\n      \"properties\": {\n        \"dtype\": \"number\",\n        \"std\": 0,\n        \"min\": 0,\n        \"max\": 1,\n        \"num_unique_values\": 2,\n        \"samples\": [\n          1,\n          0\n        ],\n        \"semantic_type\": \"\",\n        \"description\": \"\"\n      }\n    },\n    {\n      \"column\": \"nougat\",\n      \"properties\": {\n        \"dtype\": \"number\",\n        \"std\": 0,\n        \"min\": 0,\n        \"max\": 1,\n        \"num_unique_values\": 2,\n        \"samples\": [\n          1,\n          0\n        ],\n        \"semantic_type\": \"\",\n        \"description\": \"\"\n      }\n    },\n    {\n      \"column\": \"crispedricewafer\",\n      \"properties\": {\n        \"dtype\": \"number\",\n        \"std\": 0,\n        \"min\": 0,\n        \"max\": 1,\n        \"num_unique_values\": 2,\n        \"samples\": [\n          0,\n          1\n        ],\n        \"semantic_type\": \"\",\n        \"description\": \"\"\n      }\n    },\n    {\n      \"column\": \"hard\",\n      \"properties\": {\n        \"dtype\": \"number\",\n        \"std\": 0,\n        \"min\": 0,\n        \"max\": 1,\n        \"num_unique_values\": 2,\n        \"samples\": [\n          1,\n          0\n        ],\n        \"semantic_type\": \"\",\n        \"description\": \"\"\n      }\n    },\n    {\n      \"column\": \"bar\",\n      \"properties\": {\n        \"dtype\": \"number\",\n        \"std\": 0,\n        \"min\": 0,\n        \"max\": 1,\n        \"num_unique_values\": 2,\n        \"samples\": [\n          0,\n          1\n        ],\n        \"semantic_type\": \"\",\n        \"description\": \"\"\n      }\n    },\n    {\n      \"column\": \"pluribus\",\n      \"properties\": {\n        \"dtype\": \"number\",\n        \"std\": 0,\n        \"min\": 0,\n        \"max\": 1,\n        \"num_unique_values\": 2,\n        \"samples\": [\n          1,\n          0\n        ],\n        \"semantic_type\": \"\",\n        \"description\": \"\"\n      }\n    },\n    {\n      \"column\": \"sugarpercent\",\n      \"properties\": {\n        \"dtype\": \"number\",\n        \"std\": 0.28277787067790333,\n        \"min\": 0.011,\n        \"max\": 0.98799998,\n        \"num_unique_values\": 34,\n        \"samples\": [\n          0.30199999,\n          0.58099997\n        ],\n        \"semantic_type\": \"\",\n        \"description\": \"\"\n      }\n    },\n    {\n      \"column\": \"pricepercent\",\n      \"properties\": {\n        \"dtype\": \"number\",\n        \"std\": 0.28573961943317433,\n        \"min\": 0.011,\n        \"max\": 0.97600001,\n        \"num_unique_values\": 29,\n        \"samples\": [\n          0.26699999,\n          0.83700001\n        ],\n        \"semantic_type\": \"\",\n        \"description\": \"\"\n      }\n    },\n    {\n      \"column\": \"winpercent\",\n      \"properties\": {\n        \"dtype\": \"number\",\n        \"std\": 14.714357413407852,\n        \"min\": 22.445341,\n        \"max\": 84.18029,\n        \"num_unique_values\": 85,\n        \"samples\": [\n          47.173229,\n          66.971725\n        ],\n        \"semantic_type\": \"\",\n        \"description\": \"\"\n      }\n    }\n  ]\n}"
            }
          },
          "metadata": {},
          "execution_count": 11
        }
      ]
    },
    {
      "cell_type": "markdown",
      "source": [
        "# Hypothesis 1\n",
        "Reese peanut butter cup is the most popular candy during Halloweeen"
      ],
      "metadata": {
        "id": "iBmiH7Ww8xDg"
      }
    },
    {
      "cell_type": "code",
      "source": [
        "# Hyp 1: Reese peanut buttercup is the most popular candy during Halloween\n",
        "\n",
        "# Check what is The most favorite Halloween's candy\n",
        "\n",
        "mydata = mydata[['competitorname','winpercent']]\n",
        "max_index = mydata['winpercent'].idxmax()\n",
        "most_favorite_candy = mydata.loc[max_index]\n",
        "\n",
        "most_favorite_candy\n"
      ],
      "metadata": {
        "id": "MDUntxo3bJBo",
        "colab": {
          "base_uri": "https://localhost:8080/",
          "height": 145
        },
        "outputId": "6e2aeaa1-a747-4688-fa89-0bc280debe0b"
      },
      "execution_count": null,
      "outputs": [
        {
          "output_type": "execute_result",
          "data": {
            "text/plain": [
              "competitorname    ReeseÕs Peanut Butter cup\n",
              "winpercent                         84.18029\n",
              "Name: 52, dtype: object"
            ],
            "text/html": [
              "<div>\n",
              "<style scoped>\n",
              "    .dataframe tbody tr th:only-of-type {\n",
              "        vertical-align: middle;\n",
              "    }\n",
              "\n",
              "    .dataframe tbody tr th {\n",
              "        vertical-align: top;\n",
              "    }\n",
              "\n",
              "    .dataframe thead th {\n",
              "        text-align: right;\n",
              "    }\n",
              "</style>\n",
              "<table border=\"1\" class=\"dataframe\">\n",
              "  <thead>\n",
              "    <tr style=\"text-align: right;\">\n",
              "      <th></th>\n",
              "      <th>52</th>\n",
              "    </tr>\n",
              "  </thead>\n",
              "  <tbody>\n",
              "    <tr>\n",
              "      <th>competitorname</th>\n",
              "      <td>ReeseÕs Peanut Butter cup</td>\n",
              "    </tr>\n",
              "    <tr>\n",
              "      <th>winpercent</th>\n",
              "      <td>84.18029</td>\n",
              "    </tr>\n",
              "  </tbody>\n",
              "</table>\n",
              "</div><br><label><b>dtype:</b> object</label>"
            ]
          },
          "metadata": {},
          "execution_count": 2
        }
      ]
    },
    {
      "cell_type": "code",
      "source": [
        "# Check the win percent of Reese\n",
        "reese_winpercent = mydata.loc[mydata['competitorname'] == 'ReeseÕs Peanut Butter cup', 'winpercent'].values[0]\n",
        "reese_winpercent"
      ],
      "metadata": {
        "colab": {
          "base_uri": "https://localhost:8080/"
        },
        "id": "6gcr40dSdmZI",
        "outputId": "be1abfa1-0b6a-43bc-c1b3-4f919939cb57"
      },
      "execution_count": null,
      "outputs": [
        {
          "output_type": "execute_result",
          "data": {
            "text/plain": [
              "84.18029"
            ]
          },
          "metadata": {},
          "execution_count": 4
        }
      ]
    },
    {
      "cell_type": "code",
      "source": [
        "import matplotlib.pyplot as plt\n",
        "import seaborn as sns\n",
        "\n",
        "# sort the data to see the top 10 candies\n",
        "top_10 = mydata.sort_values(by='winpercent', ascending=False).head(10)\n",
        "\n",
        "sns.set_style('whitegrid')\n",
        "\n",
        "plt.figure(figsize=(12, 8))\n",
        "sns.barplot(x='competitorname', y='winpercent', data= top_10, palette='viridis')\n",
        "\n",
        "plt.xticks(rotation=45, ha='right')\n",
        "\n",
        "plt.xlabel('Candy Name')\n",
        "plt.ylabel('Win Percentage')\n",
        "plt.title('Top 10 Halloween Candies by Win Percentage')\n",
        "\n",
        "plt.show()"
      ],
      "metadata": {
        "colab": {
          "base_uri": "https://localhost:8080/",
          "height": 886
        },
        "id": "pxOgCavLXnxu",
        "outputId": "6877a3f4-81c8-4d8c-aa70-c7c20f220fbb"
      },
      "execution_count": null,
      "outputs": [
        {
          "output_type": "stream",
          "name": "stderr",
          "text": [
            "<ipython-input-9-544668bc71ba>:10: FutureWarning: \n",
            "\n",
            "Passing `palette` without assigning `hue` is deprecated and will be removed in v0.14.0. Assign the `x` variable to `hue` and set `legend=False` for the same effect.\n",
            "\n",
            "  sns.barplot(x='competitorname', y='winpercent', data= top_10, palette='viridis')\n"
          ]
        },
        {
          "output_type": "display_data",
          "data": {
            "text/plain": [
              "<Figure size 1200x800 with 1 Axes>"
            ],
            "image/png": "[encoded data removed]"
          },
          "metadata": {}
        }
      ]
    },
    {
      "cell_type": "markdown",
      "source": [
        "# **Analysis**\n",
        "The bar chart shows that Reese peanut buttercup is the most popular candy during Halloween based on the win percentage, as it ranks first in the chart.\n"
      ],
      "metadata": {
        "id": "ON2J9d79Zgkm"
      }
    },
    {
      "cell_type": "markdown",
      "source": [
        "# **Null hypothesis**\n",
        "The win percentage of Reese's Peanut Butter Cup is not different from the win percentage of other Halloween candies.\n",
        "# **Alternative hypothesis**\n",
        "Reese peanut buttercup is the most popular candy during Halloween"
      ],
      "metadata": {
        "id": "nR3e6OllkXPe"
      }
    },
    {
      "source": [
        "import pandas as pd\n",
        "from scipy import stats\n",
        "\n",
        "# Assuming 'mydata' is your DataFrame\n",
        "other_candies_winpercent = mydata.loc[mydata['competitorname'] != 'ReeseÕs Peanut Butter cup', 'winpercent']\n",
        "\n",
        "t_statistic, p_value = stats.ttest_1samp(other_candies_winpercent, reese_winpercent, alternative='less')\n",
        "\n",
        "print(f\"T-statistic: {t_statistic}\")\n",
        "print(f\"P-value: {p_value}\")\n",
        "\n",
        "alpha = 0.05  # Significance level\n",
        "if p_value < alpha:\n",
        "    print(\"Reject the null hypothesis.\")\n",
        "    print(\"There is evidence to suggest that Reese's win percentage is higher than other candies.\")\n",
        "else:\n",
        "    print(\"Fail to reject the null hypothesis.\")\n",
        "    print(\"There is not enough evidence to suggest that Reese's win percentage is higher than other candies.\")"
      ],
      "cell_type": "code",
      "metadata": {
        "colab": {
          "base_uri": "https://localhost:8080/"
        },
        "id": "P5_saHWLkRmA",
        "outputId": "efa98409-f6a8-48ce-bfc3-9c54be393462"
      },
      "execution_count": 43,
      "outputs": [
        {
          "output_type": "stream",
          "name": "stdout",
          "text": [
            "T-statistic: -21.927341263739248\n",
            "P-value: 1.3917146484154009e-36\n",
            "Reject the null hypothesis.\n",
            "There is evidence to suggest that Reese's win percentage is higher than other candies.\n"
          ]
        }
      ]
    },
    {
      "cell_type": "code",
      "source": [
        "other_candies_winpercent\n"
      ],
      "metadata": {
        "colab": {
          "base_uri": "https://localhost:8080/",
          "height": 453
        },
        "id": "AuaE-yiX-84_",
        "outputId": "f3618e77-f044-40e8-f158-691f001752aa"
      },
      "execution_count": 47,
      "outputs": [
        {
          "output_type": "execute_result",
          "data": {
            "text/plain": [
              "0     66.971725\n",
              "1     67.602936\n",
              "2     32.261086\n",
              "3     46.116505\n",
              "4     52.341465\n",
              "        ...    \n",
              "80    45.466282\n",
              "81    39.011898\n",
              "82    44.375519\n",
              "83    41.904308\n",
              "84    49.524113\n",
              "Name: winpercent, Length: 84, dtype: float64"
            ],
            "text/html": [
              "<div>\n",
              "<style scoped>\n",
              "    .dataframe tbody tr th:only-of-type {\n",
              "        vertical-align: middle;\n",
              "    }\n",
              "\n",
              "    .dataframe tbody tr th {\n",
              "        vertical-align: top;\n",
              "    }\n",
              "\n",
              "    .dataframe thead th {\n",
              "        text-align: right;\n",
              "    }\n",
              "</style>\n",
              "<table border=\"1\" class=\"dataframe\">\n",
              "  <thead>\n",
              "    <tr style=\"text-align: right;\">\n",
              "      <th></th>\n",
              "      <th>winpercent</th>\n",
              "    </tr>\n",
              "  </thead>\n",
              "  <tbody>\n",
              "    <tr>\n",
              "      <th>0</th>\n",
              "      <td>66.971725</td>\n",
              "    </tr>\n",
              "    <tr>\n",
              "      <th>1</th>\n",
              "      <td>67.602936</td>\n",
              "    </tr>\n",
              "    <tr>\n",
              "      <th>2</th>\n",
              "      <td>32.261086</td>\n",
              "    </tr>\n",
              "    <tr>\n",
              "      <th>3</th>\n",
              "      <td>46.116505</td>\n",
              "    </tr>\n",
              "    <tr>\n",
              "      <th>4</th>\n",
              "      <td>52.341465</td>\n",
              "    </tr>\n",
              "    <tr>\n",
              "      <th>...</th>\n",
              "      <td>...</td>\n",
              "    </tr>\n",
              "    <tr>\n",
              "      <th>80</th>\n",
              "      <td>45.466282</td>\n",
              "    </tr>\n",
              "    <tr>\n",
              "      <th>81</th>\n",
              "      <td>39.011898</td>\n",
              "    </tr>\n",
              "    <tr>\n",
              "      <th>82</th>\n",
              "      <td>44.375519</td>\n",
              "    </tr>\n",
              "    <tr>\n",
              "      <th>83</th>\n",
              "      <td>41.904308</td>\n",
              "    </tr>\n",
              "    <tr>\n",
              "      <th>84</th>\n",
              "      <td>49.524113</td>\n",
              "    </tr>\n",
              "  </tbody>\n",
              "</table>\n",
              "<p>84 rows × 1 columns</p>\n",
              "</div><br><label><b>dtype:</b> float64</label>"
            ]
          },
          "metadata": {},
          "execution_count": 47
        }
      ]
    },
    {
      "cell_type": "code",
      "source": [
        "import pandas as pd\n",
        "from scipy import stats\n",
        "\n",
        "# Assuming 'mydata' is your DataFrame\n",
        "other_candies_winpercent = mydata.loc[mydata['competitorname'] != 'ReeseÕs Peanut Butter cup', 'winpercent']\n",
        "\n",
        "t_statistic, p_value = stats.ttest_1samp(other_candies_winpercent, reese_winpercent, alternative='greater')\n",
        "\n",
        "print(f\"T-statistic: {t_statistic}\")\n",
        "print(f\"P-value: {p_value}\")\n",
        "\n",
        "alpha = 0.05  # Significance level\n",
        "if p_value < alpha:\n",
        "    print(\"Reject the null hypothesis.\")\n",
        "    print(\"There is evidence to suggest that other candies win percent is higher than Reese's win percent.\")\n",
        "else:\n",
        "    print(\"Fail to reject the null hypothesis.\")\n",
        "    print(\"There is not enough evidence to suggest that other candies win percent is higher than Reese's win percent.\")"
      ],
      "metadata": {
        "colab": {
          "base_uri": "https://localhost:8080/"
        },
        "id": "j1L2rXoZ_RW9",
        "outputId": "877760d8-c109-4276-e65c-fd690c60ec8b"
      },
      "execution_count": 55,
      "outputs": [
        {
          "output_type": "stream",
          "name": "stdout",
          "text": [
            "T-statistic: -17.184578478481935\n",
            "P-value: 1.0\n",
            "Fail to reject the null hypothesis.\n",
            "There is not enough evidence to suggest that other candies win percent is higher than Reese's win percent.\n"
          ]
        }
      ]
    },
    {
      "cell_type": "markdown",
      "source": [
        "# Hypothesis 2\n",
        "Chocolate is the most popular ingredient in Halloween's candy"
      ],
      "metadata": {
        "id": "fpbnWM0t-uYw"
      }
    },
    {
      "cell_type": "code",
      "source": [
        "mydata2 = mydata.drop(['competitorname','pluribus','pricepercent','winpercent','sugarpercent'], axis=1)\n",
        "mydata_sum = mydata2.sum()\n",
        "\n",
        "mydata_sum\n",
        "\n"
      ],
      "metadata": {
        "colab": {
          "base_uri": "https://localhost:8080/",
          "height": 331
        },
        "id": "TB41dYuBlylt",
        "outputId": "7f23c986-82ce-4b25-8853-c36d68f4673b"
      },
      "execution_count": null,
      "outputs": [
        {
          "output_type": "execute_result",
          "data": {
            "text/plain": [
              "chocolate           37\n",
              "fruity              38\n",
              "caramel             14\n",
              "peanutyalmondy      14\n",
              "nougat               7\n",
              "crispedricewafer     7\n",
              "hard                15\n",
              "bar                 21\n",
              "dtype: int64"
            ],
            "text/html": [
              "<div>\n",
              "<style scoped>\n",
              "    .dataframe tbody tr th:only-of-type {\n",
              "        vertical-align: middle;\n",
              "    }\n",
              "\n",
              "    .dataframe tbody tr th {\n",
              "        vertical-align: top;\n",
              "    }\n",
              "\n",
              "    .dataframe thead th {\n",
              "        text-align: right;\n",
              "    }\n",
              "</style>\n",
              "<table border=\"1\" class=\"dataframe\">\n",
              "  <thead>\n",
              "    <tr style=\"text-align: right;\">\n",
              "      <th></th>\n",
              "      <th>0</th>\n",
              "    </tr>\n",
              "  </thead>\n",
              "  <tbody>\n",
              "    <tr>\n",
              "      <th>chocolate</th>\n",
              "      <td>37</td>\n",
              "    </tr>\n",
              "    <tr>\n",
              "      <th>fruity</th>\n",
              "      <td>38</td>\n",
              "    </tr>\n",
              "    <tr>\n",
              "      <th>caramel</th>\n",
              "      <td>14</td>\n",
              "    </tr>\n",
              "    <tr>\n",
              "      <th>peanutyalmondy</th>\n",
              "      <td>14</td>\n",
              "    </tr>\n",
              "    <tr>\n",
              "      <th>nougat</th>\n",
              "      <td>7</td>\n",
              "    </tr>\n",
              "    <tr>\n",
              "      <th>crispedricewafer</th>\n",
              "      <td>7</td>\n",
              "    </tr>\n",
              "    <tr>\n",
              "      <th>hard</th>\n",
              "      <td>15</td>\n",
              "    </tr>\n",
              "    <tr>\n",
              "      <th>bar</th>\n",
              "      <td>21</td>\n",
              "    </tr>\n",
              "  </tbody>\n",
              "</table>\n",
              "</div><br><label><b>dtype:</b> int64</label>"
            ]
          },
          "metadata": {},
          "execution_count": 12
        }
      ]
    },
    {
      "cell_type": "code",
      "source": [
        "import matplotlib.pyplot as plt\n",
        "\n",
        "mydata_sum_df = pd.DataFrame(mydata_sum, columns=['Sum'])\n",
        "\n",
        "# Create the pie chart\n",
        "plt.figure(figsize=(8, 8))  # Adjust figure size if needed\n",
        "plt.pie(mydata_sum.values, labels=mydata_sum.index, autopct='%1.1f%%', startangle=90)\n",
        "plt.title('Distribution of Column Sums in mydata2')\n",
        "plt.show()\n",
        "\n"
      ],
      "metadata": {
        "colab": {
          "base_uri": "https://localhost:8080/",
          "height": 675
        },
        "id": "-x2h0qe_ALfO",
        "outputId": "7892ad92-9075-428e-88b1-27dd48c7b031"
      },
      "execution_count": null,
      "outputs": [
        {
          "output_type": "display_data",
          "data": {
            "text/plain": [
              "<Figure size 800x800 with 1 Axes>"
            ],
            "image/png": "[encoded data removed]"
          },
          "metadata": {}
        }
      ]
    },
    {
      "cell_type": "markdown",
      "source": [
        "# Analysis\n",
        " From the pie chart above, it shows that the most popular attribute in Halloween's candy is not Chocolate(24.2%). Fruity has the highest percentage of popularity (24.8%), followed by chocolate in second place and bars in third place (13.7%)."
      ],
      "metadata": {
        "id": "RkT26hu6D_yJ"
      }
    },
    {
      "cell_type": "markdown",
      "source": [
        "# **Null Hypothesis for Hypothesis 2**\n",
        "The frequency of chocolate as an feature in Halloween candies is no different than the frequency of other ingredients.\n",
        "# **Alternative hypothesis for Hypothesis 2**\n",
        "Chocolate is the most often used ingredient/feature in Halloween candy.\n"
      ],
      "metadata": {
        "id": "oAHMkXoUENYs"
      }
    },
    {
      "cell_type": "code",
      "source": [
        "#Drop chocolate column (Other candies)\n",
        "hypo2 = mydata2.drop(['chocolate'], axis=1)\n"
      ],
      "metadata": {
        "id": "wKnrXArMHZVS"
      },
      "execution_count": null,
      "outputs": []
    },
    {
      "cell_type": "code",
      "source": [
        "hypo2.mean()"
      ],
      "metadata": {
        "colab": {
          "base_uri": "https://localhost:8080/",
          "height": 300
        },
        "id": "QAo2ePmpWEK8",
        "outputId": "b088d588-23c3-477a-b6fd-a4a58e9a4c1a"
      },
      "execution_count": null,
      "outputs": [
        {
          "output_type": "execute_result",
          "data": {
            "text/plain": [
              "fruity              0.447059\n",
              "caramel             0.164706\n",
              "peanutyalmondy      0.164706\n",
              "nougat              0.082353\n",
              "crispedricewafer    0.082353\n",
              "hard                0.176471\n",
              "bar                 0.247059\n",
              "dtype: float64"
            ],
            "text/html": [
              "<div>\n",
              "<style scoped>\n",
              "    .dataframe tbody tr th:only-of-type {\n",
              "        vertical-align: middle;\n",
              "    }\n",
              "\n",
              "    .dataframe tbody tr th {\n",
              "        vertical-align: top;\n",
              "    }\n",
              "\n",
              "    .dataframe thead th {\n",
              "        text-align: right;\n",
              "    }\n",
              "</style>\n",
              "<table border=\"1\" class=\"dataframe\">\n",
              "  <thead>\n",
              "    <tr style=\"text-align: right;\">\n",
              "      <th></th>\n",
              "      <th>0</th>\n",
              "    </tr>\n",
              "  </thead>\n",
              "  <tbody>\n",
              "    <tr>\n",
              "      <th>fruity</th>\n",
              "      <td>0.447059</td>\n",
              "    </tr>\n",
              "    <tr>\n",
              "      <th>caramel</th>\n",
              "      <td>0.164706</td>\n",
              "    </tr>\n",
              "    <tr>\n",
              "      <th>peanutyalmondy</th>\n",
              "      <td>0.164706</td>\n",
              "    </tr>\n",
              "    <tr>\n",
              "      <th>nougat</th>\n",
              "      <td>0.082353</td>\n",
              "    </tr>\n",
              "    <tr>\n",
              "      <th>crispedricewafer</th>\n",
              "      <td>0.082353</td>\n",
              "    </tr>\n",
              "    <tr>\n",
              "      <th>hard</th>\n",
              "      <td>0.176471</td>\n",
              "    </tr>\n",
              "    <tr>\n",
              "      <th>bar</th>\n",
              "      <td>0.247059</td>\n",
              "    </tr>\n",
              "  </tbody>\n",
              "</table>\n",
              "</div><br><label><b>dtype:</b> float64</label>"
            ]
          },
          "metadata": {},
          "execution_count": 15
        }
      ]
    },
    {
      "cell_type": "code",
      "source": [
        "mydata['chocolate'].mean()"
      ],
      "metadata": {
        "colab": {
          "base_uri": "https://localhost:8080/"
        },
        "id": "utit5p6_aNjD",
        "outputId": "fdce88ad-34a4-46bb-9147-38e37ee06ea9"
      },
      "execution_count": null,
      "outputs": [
        {
          "output_type": "execute_result",
          "data": {
            "text/plain": [
              "0.43529411764705883"
            ]
          },
          "metadata": {},
          "execution_count": 16
        }
      ]
    },
    {
      "cell_type": "code",
      "source": [
        "from scipy import stats\n",
        "\n",
        "# Perform one-tailed t-test (alternative='greater')\n",
        "t_statistic, p_value = stats.ttest_ind(mydata['chocolate'].mean(), hypo2.mean(), alternative='greater')\n",
        "\n",
        "print(f\"T-statistic: {t_statistic}\")\n",
        "print(f\"P-value: {p_value}\")\n",
        "\n",
        "#Interpret the results\n",
        "alpha = 0.05 #Significant level\n",
        "if p_value < alpha:\n",
        "  print(\"Reject the null hypothesis.\")\n",
        "  print(\"There is evidence to suggest that chocolate is the most often used ingredient/feature in Halloween candy.\")\n",
        "else:\n",
        "  print(\"Fail to reject the null hypothesis.\")\n",
        "  print(\"There is not enough evidence to suggest that chocolate is the most often used ingredient/feature in Halloween candy.\")"
      ],
      "metadata": {
        "colab": {
          "base_uri": "https://localhost:8080/"
        },
        "id": "N70dxkIxFM5S",
        "outputId": "2deac1c9-c26a-4d64-fb17-96600e2fd733"
      },
      "execution_count": null,
      "outputs": [
        {
          "output_type": "stream",
          "name": "stdout",
          "text": [
            "T-statistic: 1.7980192164898514\n",
            "P-value: 0.06114370372125492\n",
            "Fail to reject the null hypothesis.\n",
            "There is not enough evidence to suggest that chocolate is the most often used ingredient/feature in Halloween candy.\n"
          ]
        }
      ]
    },
    {
      "cell_type": "code",
      "source": [
        "from scipy import stats\n",
        "\n",
        "#Drop chocolate column (Other candies)\n",
        "dropbar = mydata2.drop(['bar'], axis=1)\n",
        "\n",
        "# Perform one-tailed t-test (alternative='greater')\n",
        "t_statistic, p_value = stats.ttest_ind(mydata['bar'].mean(), dropbar.mean(), alternative='greater')\n",
        "\n",
        "print(f\"T-statistic: {t_statistic}\")\n",
        "print(f\"P-value: {p_value}\")\n",
        "\n",
        "#Interpret the results\n",
        "alpha = 0.05 #Significant level\n",
        "if p_value < alpha:\n",
        "  print(\"Reject the null hypothesis.\")\n",
        "  print(\"There is evidence to suggest that bar is the most often used ingredient/feature in Halloween candy.\")\n",
        "else:\n",
        "  print(\"Fail to reject the null hypothesis.\")\n",
        "  print(\"There is not enough evidence to suggest that bar is the most often used ingredient/feature in Halloween candy.\")"
      ],
      "metadata": {
        "colab": {
          "base_uri": "https://localhost:8080/"
        },
        "id": "Esz0WDf0AwQN",
        "outputId": "6229159e-4968-40a9-f8af-74ca9bca1af4"
      },
      "execution_count": 68,
      "outputs": [
        {
          "output_type": "stream",
          "name": "stdout",
          "text": [
            "T-statistic: 0.15233333694419762\n",
            "P-value: 0.4419587458629921\n",
            "Fail to reject the null hypothesis.\n",
            "There is not enough evidence to suggest that bar is the most often used ingredient/feature in Halloween candy.\n"
          ]
        }
      ]
    },
    {
      "cell_type": "code",
      "source": [
        "from scipy import stats\n",
        "\n",
        "#Drop chocolate column (Other candies)\n",
        "dropbar = mydata2.drop(['fruity'], axis=1)\n",
        "\n",
        "# Perform one-tailed t-test (alternative='greater')\n",
        "t_statistic, p_value = stats.ttest_ind(mydata['fruity'].mean(), dropbar.mean(), alternative='greater')\n",
        "\n",
        "print(f\"T-statistic: {t_statistic}\")\n",
        "print(f\"P-value: {p_value}\")\n",
        "\n",
        "#Interpret the results\n",
        "alpha = 0.05 #Significant level\n",
        "if p_value < alpha:\n",
        "  print(\"Reject the null hypothesis.\")\n",
        "  print(\"There is evidence to suggest that fruity is the most often used ingredient/feature in Halloween candy.\")\n",
        "else:\n",
        "  print(\"Fail to reject the null hypothesis.\")\n",
        "  print(\"There is not enough evidence to suggest that fruity is the most often used ingredient/feature in Halloween candy.\")"
      ],
      "metadata": {
        "colab": {
          "base_uri": "https://localhost:8080/"
        },
        "id": "-ek-fksWBQQE",
        "outputId": "b30688ed-89e6-47b0-c4d6-9312f3fd251e"
      },
      "execution_count": 70,
      "outputs": [
        {
          "output_type": "stream",
          "name": "stdout",
          "text": [
            "T-statistic: 1.9603227205078568\n",
            "P-value: 0.048825727695441065\n",
            "Reject the null hypothesis.\n",
            "There is evidence to suggest that fruity is the most often used ingredient/feature in Halloween candy.\n"
          ]
        }
      ]
    },
    {
      "cell_type": "markdown",
      "source": [
        "# Hypothesis 3\n",
        " chocolate and caramel is the combination of ingredient or feature with the highest correlation"
      ],
      "metadata": {
        "id": "bVNGONW1_5A0"
      }
    },
    {
      "cell_type": "code",
      "source": [
        "import matplotlib.pyplot as plt\n",
        "import seaborn as sns\n",
        "\n",
        "# Assuming 'competitorname' is the only non-numeric column you want to exclude\n",
        "mydata3 = mydata2.select_dtypes(include=['number']) # Select only numeric columns\n",
        "\n",
        "plt.figure(figsize=(10, 6))\n",
        "\n",
        "sns.heatmap(mydata3.corr(), annot=True, cmap='Pastel1')  # Annotation (with numbers)\n",
        "plt.show()"
      ],
      "metadata": {
        "colab": {
          "base_uri": "https://localhost:8080/",
          "height": 631
        },
        "id": "0IOB3lCpmUf4",
        "outputId": "aa52f6d2-ae0b-4f54-877b-0ee0a233db51"
      },
      "execution_count": null,
      "outputs": [
        {
          "output_type": "display_data",
          "data": {
            "text/plain": [
              "<Figure size 1000x600 with 2 Axes>"
            ],
            "image/png": "[encoded data removed]"
          },
          "metadata": {}
        }
      ]
    },
    {
      "cell_type": "markdown",
      "source": [
        "# Analysis\n",
        "From the heat map above, it shows the correlation between each variable. The combination of attribute with the most correlation is not chocolate and caremel (0.25), but chocolate and bar (0.6) because the correlation coefficient is closer to 1, which means there is a strong positive correlation between the chocolate and bar\n",
        "."
      ],
      "metadata": {
        "id": "_pmLlawzINIj"
      }
    },
    {
      "cell_type": "markdown",
      "source": [
        "# **Null hypothesis for hypothesis 3**\n",
        "There is no significant correlation between the presence of chocolate and caramel in Halloween candies\n",
        "\n",
        "# **Alternative hypothesis for hypothesis 3**\n",
        "Chocolate and caramel is the combination of ingredient or feature with the highest correlation"
      ],
      "metadata": {
        "id": "Ke7Eg4f7JHuF"
      }
    },
    {
      "cell_type": "code",
      "source": [
        "choco_caramel = mydata['chocolate'].corr(mydata['caramel'])\n",
        "choco_caramel"
      ],
      "metadata": {
        "colab": {
          "base_uri": "https://localhost:8080/"
        },
        "id": "IgIaJJyxoqki",
        "outputId": "5e4689bf-53e4-4b6f-d175-cf78c5ccc7e7"
      },
      "execution_count": null,
      "outputs": [
        {
          "output_type": "execute_result",
          "data": {
            "text/plain": [
              "0.24987534731992408"
            ]
          },
          "metadata": {},
          "execution_count": 20
        }
      ]
    },
    {
      "cell_type": "code",
      "source": [
        "drop3 = mydata2.drop(['caramel','chocolate'], axis=1)\n",
        "hypo3 = drop3.corrwith(mydata['chocolate'])\n",
        "hypo3"
      ],
      "metadata": {
        "colab": {
          "base_uri": "https://localhost:8080/",
          "height": 269
        },
        "id": "k1pBxbs_p1gv",
        "outputId": "8dc178dc-0bbe-4d34-a541-de467d040282"
      },
      "execution_count": null,
      "outputs": [
        {
          "output_type": "execute_result",
          "data": {
            "text/plain": [
              "fruity             -0.741721\n",
              "peanutyalmondy      0.377824\n",
              "nougat              0.254892\n",
              "crispedricewafer    0.341210\n",
              "hard               -0.344177\n",
              "bar                 0.597421\n",
              "dtype: float64"
            ],
            "text/html": [
              "<div>\n",
              "<style scoped>\n",
              "    .dataframe tbody tr th:only-of-type {\n",
              "        vertical-align: middle;\n",
              "    }\n",
              "\n",
              "    .dataframe tbody tr th {\n",
              "        vertical-align: top;\n",
              "    }\n",
              "\n",
              "    .dataframe thead th {\n",
              "        text-align: right;\n",
              "    }\n",
              "</style>\n",
              "<table border=\"1\" class=\"dataframe\">\n",
              "  <thead>\n",
              "    <tr style=\"text-align: right;\">\n",
              "      <th></th>\n",
              "      <th>0</th>\n",
              "    </tr>\n",
              "  </thead>\n",
              "  <tbody>\n",
              "    <tr>\n",
              "      <th>fruity</th>\n",
              "      <td>-0.741721</td>\n",
              "    </tr>\n",
              "    <tr>\n",
              "      <th>peanutyalmondy</th>\n",
              "      <td>0.377824</td>\n",
              "    </tr>\n",
              "    <tr>\n",
              "      <th>nougat</th>\n",
              "      <td>0.254892</td>\n",
              "    </tr>\n",
              "    <tr>\n",
              "      <th>crispedricewafer</th>\n",
              "      <td>0.341210</td>\n",
              "    </tr>\n",
              "    <tr>\n",
              "      <th>hard</th>\n",
              "      <td>-0.344177</td>\n",
              "    </tr>\n",
              "    <tr>\n",
              "      <th>bar</th>\n",
              "      <td>0.597421</td>\n",
              "    </tr>\n",
              "  </tbody>\n",
              "</table>\n",
              "</div><br><label><b>dtype:</b> float64</label>"
            ]
          },
          "metadata": {},
          "execution_count": 22
        }
      ]
    },
    {
      "source": [
        "from scipy import stats\n",
        "\n",
        "# Perform one-tailed t-test (alternative='greater')\n",
        "t_statistic, p_value = stats.ttest_ind(choco_caramel, hypo3 , alternative='greater')\n",
        "\n",
        "print(f\"T-statistic: {t_statistic}\")\n",
        "print(f\"P-value: {p_value}\")\n",
        "\n",
        "alpha = 0.05\n",
        "\n",
        "#Interpret the results\n",
        "if p_value < alpha:\n",
        "  print(\"Reject the null hypothesis.\")\n",
        "  print(\"There is evidence to suggest that chocolate and caramel is the combination of ingredient or feature with the highest correlation\")\n",
        "else:\n",
        "  print(\"Fail to reject the null hypothesis.\")\n",
        "  print(\"There is not enough evidence to suggest that chocolate and caramel is the combination of ingredient or feature with the highest correlation\")"
      ],
      "cell_type": "code",
      "metadata": {
        "colab": {
          "base_uri": "https://localhost:8080/"
        },
        "id": "usi7MepbRzPk",
        "outputId": "bad274f4-d422-49b1-d4d8-2a4a03d0ebbc"
      },
      "execution_count": null,
      "outputs": [
        {
          "output_type": "stream",
          "name": "stdout",
          "text": [
            "T-statistic: 0.30557253505433846\n",
            "P-value: 0.38612137362771903\n",
            "Fail to reject the null hypothesis.\n",
            "There is not enough evidence to suggest that chocolate and caramel is the combination of ingredient or feature with the highest correlation\n"
          ]
        }
      ]
    }
  ]
}